{
 "cells": [
  {
   "cell_type": "code",
   "execution_count": 35,
   "metadata": {},
   "outputs": [
    {
     "name": "stdout",
     "output_type": "stream",
     "text": [
      "Ki Values: ['0.00100nM ', '0.00500nM ', '0.00500nM ', '0.0120nM ', '0.0160nM ', '0.0220nM ', '0.0250nM ', '0.0290nM ', '0.0340nM ', '0.0340nM ', '0.126nM ', '0.376nM', '0.819nM', '1.33nM', '1.56nM', '2.04nM', '18.2nM', '19.2nM', '28.1nM', '42.9nM']\n",
      "SMILES Values: ['CCC(CC)CN(C[C@@H](O)[C@H](Cc1ccccc1)NC(=O)O[C@H]1CO[C@H]2OCC[C@@H]12)S(=O)(=O)c1ccc(OC)cc1', 'CCC(CC)CN(C[C@@H](O)[C@H](Cc1ccccc1)NC(=O)O[C@H]1CO[C@H]2OCC[C@@H]12)S(=O)(=O)c1ccc(CO)cc1', 'CC[C@H](C)CN(C[C@@H](O)[C@H](Cc1ccccc1)NC(=O)O[C@H]1CO[C@H]2OCC[C@@H]12)S(=O)(=O)c1ccc(OC)cc1', 'CC[C@H](C)CN(C[C@@H](O)[C@H](Cc1ccccc1)NC(=O)O[C@H]1CO[C@H]2OCC[C@@H]12)S(=O)(=O)c1ccc2ncsc2c1', 'CC[C@H](C)CN(C[C@@H](O)[C@H](Cc1ccccc1)NC(=O)O[C@H]1CO[C@H]2OCC[C@@H]12)S(=O)(=O)c1ccc(N)cc1', 'CC[C@H](C)CN(C[C@@H](O)[C@H](Cc1ccccc1)NC(=O)O[C@H]1CO[C@H]2OCC[C@@H]12)S(=O)(=O)c1ccc(CO)cc1', 'CC(C)CN(C[C@@H](O)[C@H](Cc1ccccc1)NC(=O)O[C@H]1CO[C@H]2OCC[C@@H]12)S(=O)(=O)c1ccc(N)cc1', 'CC[C@H](C)CN(C[C@@H](O)[C@H](Cc1ccccc1)NC(=O)O[C@H]1CO[C@H]2OCC[C@@H]12)S(=O)(=O)c1ccc2OCOc2c1', 'CCC(CC)CN(C[C@@H](O)[C@H](Cc1ccccc1)NC(=O)O[C@H]1CO[C@H]2OCC[C@@H]12)S(=O)(=O)c1ccc(N)cc1', 'CCC(CC)CN(C[C@@H](O)[C@H](Cc1ccccc1)NC(=O)O[C@H]1CO[C@H]2OCC[C@@H]12)S(=O)(=O)c1ccc2OCOc2c1', 'CCC(CC)CN(C[C@@H](O)[C@H](Cc1ccccc1)NC(=O)O[C@H]1CO[C@H]2OCC[C@@H]12)S(=O)(=O)c1ccc2ncsc2c1', 'CC[C@H](C)CN(C[C@@H](O)[C@H](Cc1ccccc1)NC(=O)C(NC(C)=O)[C@@H](C)CC)S(=O)(=O)c1ccc2ncsc2c1', 'CC[C@H](C)[C@H](NC(C)=O)C(=O)N[C@@H](Cc1ccccc1)[C@H](O)CN(CC(C)C)S(=O)(=O)c1ccc(OC)cc1', 'O[C@H](CN(CC1CCCCC1)S(=O)(=O)c1ccc2ncsc2c1)[C@H](Cc1ccccc1)NC(=O)c1cccc(O)c1', 'COc1ccc(cc1)S(=O)(=O)N(CC(C)C)C[C@@H](O)[C@H](Cc1ccccc1)NC(=O)c1cccc(O)c1', 'COc1ccc(cc1)S(=O)(=O)N(C[C@@H](O)[C@H](Cc1ccccc1)NC(=O)c1cccc(O)c1)CC1CCCCC1', 'CC[C@H](C)CN(C[C@@H](O)[C@H](Cc1ccccc1)NC(=O)c1cccc(O)c1)S(=O)(=O)c1ccc(s1)-c1ccno1', 'O[C@H](CN(CCCc1ccccc1)S(=O)(=O)c1ccc2ncsc2c1)[C@H](Cc1ccccc1)NC(=O)c1cccc(O)c1', 'CC(C)CN(C[C@@H](O)[C@H](Cc1ccccc1)NC(=O)c1cccc(O)c1)S(=O)(=O)c1ccc(s1)-c1ccno1', 'COc1ccc(cc1)S(=O)(=O)N(CCCc1ccccc1)C[C@@H](O)[C@H](Cc1ccccc1)NC(=O)c1cccc(O)c1']\n"
     ]
    }
   ],
   "source": [
    "from selenium import webdriver\n",
    "from selenium.webdriver.common.by import By\n",
    "import time\n",
    "import pyperclip\n",
    "\n",
    "driver = webdriver.Chrome()\n",
    "\n",
    "url = 'https://www.bindingdb.org/rwd/jsp/dbsearch/PrimarySearch_ki.jsp?tag=pol&submit=Search&target=hiv-1%20protease%20m1&polymerid=5721,5965'\n",
    "driver.get(url)\n",
    "\n",
    "time.sleep(2)\n",
    "\n",
    "# Find all elements containing Ki data\n",
    "ki_elements = driver.find_elements(By.XPATH, \"//*[@id='content']/section/div/div[2]/div/div[3]/span[2]\")\n",
    "\n",
    "ki_values = []\n",
    "\n",
    "# Iterate through each element to extract Ki values\n",
    "for ki_element in ki_elements:\n",
    "    ki_data = ki_element.text.strip().split(':')[1].strip()\n",
    "    ki_data = ki_data.replace('ΔG°', '')  # Remove \"ΔG°\" sign from Ki data\n",
    "    ki_values.append(ki_data)\n",
    "\n",
    "print(\"Ki Values:\", ki_values)\n",
    "\n",
    "\n",
    "smiles_values = []\n",
    "\n",
    "for i in range(1, 21):\n",
    "    smiles_xpath = \"//*[@id='content']/section/div/div[2]/div[\" + str(i) + \"]/div[2]/button[1]\"\n",
    "    smile_button = driver.find_element(By.XPATH, smiles_xpath)\n",
    "    smile_button.click()\n",
    "    time.sleep(1)  \n",
    "    smiles_data = pyperclip.paste()\n",
    "    if smiles_data:\n",
    "        smiles_values.append(smiles_data)\n",
    "    else:\n",
    "        print(\"Error: SMILES data not copied successfully\")\n",
    "\n",
    "print(\"SMILES Values:\", smiles_values)\n",
    "\n",
    "driver.quit()"
   ]
  },
  {
   "cell_type": "code",
   "execution_count": null,
   "metadata": {},
   "outputs": [],
   "source": []
  }
 ],
 "metadata": {
  "kernelspec": {
   "display_name": "Python 3",
   "language": "python",
   "name": "python3"
  },
  "language_info": {
   "codemirror_mode": {
    "name": "ipython",
    "version": 3
   },
   "file_extension": ".py",
   "mimetype": "text/x-python",
   "name": "python",
   "nbconvert_exporter": "python",
   "pygments_lexer": "ipython3",
   "version": "3.12.3"
  }
 },
 "nbformat": 4,
 "nbformat_minor": 2
}
